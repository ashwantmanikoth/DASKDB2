{
 "cells": [
  {
   "cell_type": "code",
   "execution_count": 1,
   "metadata": {},
   "outputs": [
    {
     "data": {
      "image/png": "[encoded data removed]",
      "text/plain": [
       "<Figure size 432x288 with 1 Axes>"
      ]
     },
     "metadata": {
      "needs_background": "light"
     },
     "output_type": "display_data"
    }
   ],
   "source": [
    "from run_dask_tpch import query, register_udf\n",
    "import matplotlib.pyplot as plt\n",
    "import numpy as np\n",
    "from sklearn.linear_model import LinearRegression as LR\n",
    "\n",
    "def myLinearFit(s1,s2):\n",
    "    model = LR().fit(np.array(s1).reshape(-1,1), s2)\n",
    "    pred = model.predict(np.array(s1).reshape(-1,1))\n",
    "    plt.scatter(s1, s2, color='black')\n",
    "    plt.plot(s1,pred,color='blue', linewidth=3)\n",
    "    plt.xlabel(list(s1.columns)[0])\n",
    "    plt.ylabel(list(s2.columns)[0])\n",
    "    plt.title(\"Plot for Linear Regression\")\n",
    "    plt.show()    \n",
    "\n",
    "#Similar to Spark, the UDF's needs to be registered for invocation from DaskDB\n",
    "#register_udf(func,param_list)\n",
    "#Parameters:\n",
    "#    func: Python function\n",
    "#    param_list: List of integers\n",
    "#        E.g. the list [3,2] means this fuction would be passes two pandas dataframes\n",
    "#        where first three columns of the SQL query which are passed as parameters to the\n",
    "#        UDF comprises the first pandas dataframe and next two columns comprises the \n",
    "#        second pandas dataframe.\n",
    "\n",
    "register_udf(myLinearFit,[1,1])    \n",
    "\n",
    "sql_lin = \"\"\"select\n",
    "        myLinearFit(l_discount, l_tax)\n",
    "    from\n",
    "        lineitem\n",
    "    where\n",
    "        l_orderkey < 10\n",
    "    limit 50;\n",
    "        \"\"\"\n",
    "\n",
    "query(sql_lin)"
   ]
  },
  {
   "cell_type": "code",
   "execution_count": 1,
   "metadata": {},
   "outputs": [
    {
     "data": {
      "image/png": "[encoded data removed]",
      "text/plain": [
       "<Figure size 432x288 with 1 Axes>"
      ]
     },
     "metadata": {
      "needs_background": "light"
     },
     "output_type": "display_data"
    }
   ],
   "source": [
    "from run_dask_tpch import query, register_udf\n",
    "import matplotlib.pyplot as plt\n",
    "import numpy as np\n",
    "from sklearn.cluster import KMeans\n",
    "\n",
    "def myKMeans(df):\n",
    "    kmeans = KMeans(n_clusters=4).fit(df)\n",
    "    centroids = kmeans.cluster_centers_     \n",
    "    col1 = list(df.columns)[0]\n",
    "    col2 = list(df.columns)[1]\n",
    "    plt.scatter(df[col1], df[col2], c= kmeans.labels_.astype(float), s=50)\n",
    "    plt.scatter(centroids[:, 0], centroids[:, 1], c='red', s=50)\n",
    "    plt.xlabel(col1)\n",
    "    plt.ylabel(col2)\n",
    "    plt.title(\"Plot for K-Means\")\n",
    "    plt.show()    \n",
    "\n",
    "#Similar to Spark, the UDF's needs to be registered for invocation from DaskDB\n",
    "#register_udf(func,param_list)\n",
    "#Parameters:\n",
    "#    func: Python function\n",
    "#    param_list: List of integers\n",
    "#        E.g. the list [3,2] means this fuction would be passes two pandas dataframes\n",
    "#        where first three columns of the SQL query which are passed as parameters to the\n",
    "#        UDF comprises the first pandas dataframe and next two columns comprises the \n",
    "#        second pandas dataframe.\n",
    "\n",
    "register_udf(myKMeans,[2])    \n",
    "\n",
    "sql_kmeans = \"\"\"select myKMeans(l_discount, l_tax)\n",
    "    from\n",
    "        lineitem\n",
    "    where\n",
    "        l_orderkey < 50\n",
    "        limit 50;\n",
    "        \"\"\"\n",
    "\n",
    "query(sql_kmeans)"
   ]
  },
  {
   "cell_type": "code",
   "execution_count": 1,
   "metadata": {},
   "outputs": [
    {
     "name": "stdout",
     "output_type": "stream",
     "text": [
      "      l_discount  l_tax\n",
      "0.25        0.04   0.02\n",
      "0.75        0.09   0.06\n"
     ]
    }
   ],
   "source": [
    "from run_dask_tpch import query, register_udf\n",
    "\n",
    "def myQuantile(df):\n",
    "    return df.quantile([.25, .75])   \n",
    "\n",
    "#Similar to Spark, the UDF's needs to be registered for invocation from DaskDB\n",
    "#register_udf(func,param_list)\n",
    "#Parameters:\n",
    "#    func: Python function\n",
    "#    param_list: List of integers\n",
    "#        E.g. the list [3,2] means this fuction would be passes two pandas dataframes\n",
    "#        where first three columns of the SQL query which are passed as parameters to the\n",
    "#        UDF comprises the first pandas dataframe and next two columns comprises the \n",
    "#        second pandas dataframe.\n",
    "\n",
    "register_udf(myQuantile,[2])\n",
    "sql_quantile = \"\"\"select myQuantile(l_discount, l_tax)\n",
    "    from\n",
    "        lineitem\n",
    "    where\n",
    "        l_orderkey < 50\n",
    "        limit 50;\n",
    "       \"\"\"        \n",
    "q = query(sql_quantile)\n",
    "print(q)"
   ]
  },
  {
   "cell_type": "code",
   "execution_count": 1,
   "metadata": {},
   "outputs": [
    {
     "name": "stdout",
     "output_type": "stream",
     "text": [
      "Optimization terminated successfully.\n",
      "         Current function value: 1.617021\n",
      "         Iterations: 4\n",
      "         Function evaluations: 8\n",
      "         Gradient evaluations: 8\n",
      "[-1.80851064 -0.25531915]\n"
     ]
    }
   ],
   "source": [
    "from run_dask_tpch import query, register_udf\n",
    "from scipy import optimize\n",
    "import numpy as np\n",
    "\n",
    "def myConjugateGradOpt(df):\n",
    "    #seek the minimum value of the expression a*u**2 + b*u*v + c*v**2 + d*u + e*v + f\n",
    "    #for given values of the parameters and an initial guess (u, v) = (df[0],df[1])\n",
    "        \n",
    "    def f(x, *args):\n",
    "        u, v = x\n",
    "        a, b, c, d, e, f = args\n",
    "        return a*u**2 + b*u*v + c*v**2 + d*u + e*v + f\n",
    "        \n",
    "    def gradf(x, *args):\n",
    "        u, v = x\n",
    "        a, b, c, d, e, f = args\n",
    "        gu = 2*a*u + b*v + d     # u-component of the gradient\n",
    "        gv = b*u + 2*c*v + e     # v-component of the gradient\n",
    "        return np.asarray((gu, gv))\n",
    "\n",
    "    args = (2, 3, 7, 8, 9, 10)  # parameter values    \n",
    "    x0 = df\n",
    "    val = optimize.fmin_cg(f, x0, fprime=gradf, args=args)\n",
    "    return val  \n",
    "\n",
    "#Similar to Spark, the UDF's needs to be registered for invocation from DaskDB\n",
    "#register_udf(func,param_list)\n",
    "#Parameters:\n",
    "#    func: Python function\n",
    "#    param_list: List of integers\n",
    "#        E.g. the list [3,2] means this fuction would be passes two pandas dataframes\n",
    "#        where first three columns of the SQL query which are passed as parameters to the\n",
    "#        UDF comprises the first pandas dataframe and next two columns comprises the \n",
    "#        second pandas dataframe.\n",
    "\n",
    "register_udf(myConjugateGradOpt, [2])        \n",
    "sql_cgo = \"\"\"select\n",
    "        myConjugateGradOpt(l_discount, l_tax)\n",
    "    from\n",
    "        lineitem\n",
    "    where\n",
    "        l_orderkey < 10\n",
    "    limit 1;        \"\"\"\n",
    "        \n",
    "res = query(sql_cgo)\n",
    "print(res)"
   ]
  },
  {
   "cell_type": "code",
   "execution_count": null,
   "metadata": {},
   "outputs": [],
   "source": []
  }
 ],
 "metadata": {
  "kernelspec": {
   "display_name": "Python 3",
   "language": "python",
   "name": "python3"
  },
  "language_info": {
   "codemirror_mode": {
    "name": "ipython",
    "version": 3
   },
   "file_extension": ".py",
   "mimetype": "text/x-python",
   "name": "python",
   "nbconvert_exporter": "python",
   "pygments_lexer": "ipython3",
   "version": "3.7.6"
  }
 },
 "nbformat": 4,
 "nbformat_minor": 4
}
